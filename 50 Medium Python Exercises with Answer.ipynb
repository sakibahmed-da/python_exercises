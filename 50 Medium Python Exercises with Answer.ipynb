{
 "cells": [
  {
   "cell_type": "markdown",
   "id": "38ad02f9-32d3-4c82-938f-251219632416",
   "metadata": {},
   "source": [
    "1. Find the intersection of two lists"
   ]
  },
  {
   "cell_type": "code",
   "execution_count": 2,
   "id": "54b04ddf-029a-4507-a8b2-a08ca230a09d",
   "metadata": {},
   "outputs": [
    {
     "data": {
      "text/plain": [
       "{2, 6}"
      ]
     },
     "execution_count": 2,
     "metadata": {},
     "output_type": "execute_result"
    }
   ],
   "source": [
    "l1=[2,3,5,6,7,8]\n",
    "l2=[6,4,2,6,9,4,2]\n",
    "\n",
    "set(l1).intersection(set(l2)) # intersect doesn't works on list"
   ]
  },
  {
   "cell_type": "markdown",
   "id": "436b4f20-d1ef-439c-8b6c-cefff4420526",
   "metadata": {},
   "source": [
    "2. Find the union of two lists"
   ]
  },
  {
   "cell_type": "code",
   "execution_count": 9,
   "id": "d88a78f9-634f-4433-b7d0-d73496f8b81f",
   "metadata": {},
   "outputs": [
    {
     "name": "stdout",
     "output_type": "stream",
     "text": [
      "[2, 3, 4, 5, 6, 7, 8, 9]\n",
      "[2, 3, 4, 5, 6, 7, 8, 9]\n"
     ]
    }
   ],
   "source": [
    "print(list(set(l1).union(set(l2))))\n",
    "\n",
    "print(list(set(l1) | set(l2)))"
   ]
  },
  {
   "cell_type": "markdown",
   "id": "292c8494-4e7a-47da-a23b-84f6e2ec30fa",
   "metadata": {},
   "source": [
    "3. FInd common items from two list"
   ]
  },
  {
   "cell_type": "code",
   "execution_count": 51,
   "id": "4ab44389-4a2c-401c-a74d-32b6c140a541",
   "metadata": {},
   "outputs": [
    {
     "name": "stdout",
     "output_type": "stream",
     "text": [
      "[2, 3]\n"
     ]
    }
   ],
   "source": [
    "a=[3,5,62,2]\n",
    "b=[4,12,3,1,2]\n",
    "\n",
    "com=list(set(a)&set(b))\n",
    "print(com)"
   ]
  },
  {
   "cell_type": "markdown",
   "id": "7f703bc4-27c4-4a32-9855-02eaa982cfa2",
   "metadata": {},
   "source": [
    "4. Find unique items from two list"
   ]
  },
  {
   "cell_type": "code",
   "execution_count": 25,
   "id": "901dff6e-ffca-44f5-9956-ad8180c2d072",
   "metadata": {},
   "outputs": [
    {
     "name": "stdout",
     "output_type": "stream",
     "text": [
      "[1, 4, 5, 12, 62]\n"
     ]
    }
   ],
   "source": [
    "a=[3,5,62,2]\n",
    "b=[4,12,3,1,2]\n",
    "\n",
    "uni=list(set(a)^set(b))\n",
    "print(uni)"
   ]
  },
  {
   "cell_type": "markdown",
   "id": "b9211a07-43aa-482b-bbaa-8324366e0c44",
   "metadata": {},
   "source": [
    "5. Find symmetric difference within two sets"
   ]
  },
  {
   "cell_type": "code",
   "execution_count": 57,
   "id": "1eedc89c-04ed-4433-ac67-5ca8adf395be",
   "metadata": {},
   "outputs": [
    {
     "name": "stdout",
     "output_type": "stream",
     "text": [
      "{1, 4, 5, 12, 62}\n",
      "{1, 4, 5, 12, 62}\n"
     ]
    }
   ],
   "source": [
    "a={3,5,62,2}\n",
    "b={4,12,3,1,2}\n",
    "\n",
    "print(a^b)\n",
    "print(a.symmetric_difference(b))"
   ]
  },
  {
   "cell_type": "markdown",
   "id": "40a9947b-530b-4b47-be16-970e559e5249",
   "metadata": {},
   "source": [
    "6. Find Value Range in list"
   ]
  },
  {
   "cell_type": "code",
   "execution_count": 63,
   "id": "62011881-cb73-408c-b05d-48bf90a0b9b6",
   "metadata": {},
   "outputs": [
    {
     "name": "stdout",
     "output_type": "stream",
     "text": [
      "6\n"
     ]
    }
   ],
   "source": [
    "a=[3,5,2,5,2,4,34]\n",
    "c=0\n",
    "\n",
    "for i in a:\n",
    "    if i!= 4:\n",
    "        c+=1\n",
    "print(c)"
   ]
  },
  {
   "cell_type": "markdown",
   "id": "ea3796b8-2b57-4294-baeb-06db0127f87c",
   "metadata": {},
   "source": [
    "7. Count every characters from a string"
   ]
  },
  {
   "cell_type": "code",
   "execution_count": 30,
   "id": "7ebb3aee-a165-4e53-8b02-7d4d500441a2",
   "metadata": {},
   "outputs": [
    {
     "name": "stdout",
     "output_type": "stream",
     "text": [
      "{'H': 1, 'e': 1, 'l': 2, 'o': 2, ' ': 1, 'p': 1, 'y': 1, 't': 1, 'h': 1, 'n': 1}\n"
     ]
    }
   ],
   "source": [
    "a=\"Hello python\"\n",
    "\n",
    "count={}\n",
    "for c in a:\n",
    "    if c in count:\n",
    "        count[c]+=1\n",
    "    else:\n",
    "        count[c]=1\n",
    "print(count)"
   ]
  },
  {
   "cell_type": "markdown",
   "id": "6c5e54b9-cfa0-47a8-b309-e4efab2c23b1",
   "metadata": {},
   "source": [
    "8. Count every word from a string"
   ]
  },
  {
   "cell_type": "code",
   "execution_count": 47,
   "id": "7be11ccd-71b5-4a2e-ade1-b6e52b412ecb",
   "metadata": {},
   "outputs": [
    {
     "name": "stdout",
     "output_type": "stream",
     "text": [
      "{'Hello': 1, 'python': 1}\n"
     ]
    }
   ],
   "source": [
    "a=\"Hello python\"\n",
    "\n",
    "w=a.split()\n",
    "count={}\n",
    "for i in w:\n",
    "    count[i]=count.get(i,0)+1\n",
    "print(count)"
   ]
  },
  {
   "cell_type": "markdown",
   "id": "1a19bd09-0d58-4055-a25a-9a33dfaeba43",
   "metadata": {},
   "source": [
    "9. Sort all the characters in a string"
   ]
  },
  {
   "cell_type": "code",
   "execution_count": 50,
   "id": "804c00fc-4711-48d4-9bc2-41208e7986e5",
   "metadata": {},
   "outputs": [
    {
     "name": "stdout",
     "output_type": "stream",
     "text": [
      " Hehllnoopty\n"
     ]
    }
   ],
   "source": [
    "a=\"Hello python\"\n",
    "print(''.join(sorted(a)))"
   ]
  },
  {
   "cell_type": "markdown",
   "id": "8c9e2679-a0aa-4b7d-a64a-30b4a531cecf",
   "metadata": {},
   "source": [
    "10. Sort a list with sorted function"
   ]
  },
  {
   "cell_type": "code",
   "execution_count": 3,
   "id": "0e636d10-57d2-4caa-a3a9-9672c69720d9",
   "metadata": {},
   "outputs": [
    {
     "data": {
      "text/plain": [
       "[9, 6, 6, 4, 4, 2, 2]"
      ]
     },
     "execution_count": 3,
     "metadata": {},
     "output_type": "execute_result"
    }
   ],
   "source": [
    "sorted(l2,reverse=True)"
   ]
  },
  {
   "cell_type": "markdown",
   "id": "39cabb9d-3029-41c8-8666-6e09a162fb85",
   "metadata": {},
   "source": [
    "11. Flattening a Nested List"
   ]
  },
  {
   "cell_type": "code",
   "execution_count": 3,
   "id": "84fd258d-34f2-44b4-918c-fd1c2e1c9256",
   "metadata": {},
   "outputs": [
    {
     "name": "stdout",
     "output_type": "stream",
     "text": [
      "[1, 2, 3, 4, 5, 6]\n"
     ]
    }
   ],
   "source": [
    "nested_lst = [[1, 2], [3, 4], [5, 6]]\n",
    "lst = sum(nested_lst, [])\n",
    "print(lst)\n"
   ]
  },
  {
   "cell_type": "markdown",
   "id": "e5dc9606-fcf3-465b-9df3-5f592db83dd3",
   "metadata": {},
   "source": [
    "12. Sort dictionary by their keys"
   ]
  },
  {
   "cell_type": "code",
   "execution_count": 36,
   "id": "219898fe-a4c4-4cc3-aa93-5e01b4ffeaf1",
   "metadata": {},
   "outputs": [
    {
     "data": {
      "text/plain": [
       "{'sakib': 12, 'hula': 21, 'emon': 83}"
      ]
     },
     "execution_count": 36,
     "metadata": {},
     "output_type": "execute_result"
    }
   ],
   "source": [
    "stu={\"sakib\":12,\"emon\":83,\"hula\":21}\n",
    "\n",
    "dict(sorted(stu.items(),key=lambda item:item[1]))"
   ]
  },
  {
   "cell_type": "markdown",
   "id": "6d21ad27-dbd6-4d6c-b386-04986ecf9913",
   "metadata": {},
   "source": [
    "13. Check that a specific key is in the dictionary or not"
   ]
  },
  {
   "cell_type": "code",
   "execution_count": 39,
   "id": "7e325c19-7d2c-4c42-b729-19167f133206",
   "metadata": {},
   "outputs": [
    {
     "name": "stdout",
     "output_type": "stream",
     "text": [
      "yes\n"
     ]
    }
   ],
   "source": [
    "stu={\"sakib\":12,\"emon\":83,\"hula\":21}\n",
    "if \"sakib\" in stu:\n",
    "    print(\"yes\")\n",
    "else:\n",
    "    print(\"no\")"
   ]
  },
  {
   "cell_type": "markdown",
   "id": "23c28ec0-8d65-4ee8-bbcd-01e49c6f3f06",
   "metadata": {},
   "source": [
    "14. Delete a key from dictionary"
   ]
  },
  {
   "cell_type": "code",
   "execution_count": 41,
   "id": "482b1fd3-7be6-4237-98fa-29557f405923",
   "metadata": {},
   "outputs": [
    {
     "name": "stdout",
     "output_type": "stream",
     "text": [
      "{'emon': 83, 'hula': 21}\n"
     ]
    }
   ],
   "source": [
    "stu={\"sakib\":12,\"emon\":83,\"hula\":21}\n",
    "\n",
    "stu.pop(\"sakib\")\n",
    "print(stu)"
   ]
  },
  {
   "cell_type": "markdown",
   "id": "0fb58726-91e1-4bcb-9431-afacc0ad71a2",
   "metadata": {},
   "source": [
    "15. Comprese two list to a dictionary"
   ]
  },
  {
   "cell_type": "code",
   "execution_count": 43,
   "id": "65fb5b11-7e60-4eab-8e31-7a465709e66d",
   "metadata": {},
   "outputs": [
    {
     "name": "stdout",
     "output_type": "stream",
     "text": [
      "{'sakib': 12, 'emon': 43, 'Hula': 94, 'ula': 90}\n"
     ]
    }
   ],
   "source": [
    "a=[\"sakib\",\"emon\",\"Hula\",\"ula\"]\n",
    "b=[12,43,94,90]\n",
    "\n",
    "dic=dict(zip(a,b))\n",
    "print(dic)"
   ]
  },
  {
   "cell_type": "markdown",
   "id": "bdc133fc-7242-4d0b-ac5b-4a65d21c77ce",
   "metadata": {},
   "source": [
    "16. Replace remove spaces from values \" H e l l o P y t h o n \""
   ]
  },
  {
   "cell_type": "code",
   "execution_count": 4,
   "id": "690a9482-7894-49d4-a678-f48473567bc1",
   "metadata": {},
   "outputs": [
    {
     "data": {
      "text/plain": [
       "'Hellopython'"
      ]
     },
     "execution_count": 4,
     "metadata": {},
     "output_type": "execute_result"
    }
   ],
   "source": [
    "txt=\" H e l l o P y t h o n \"\n",
    "txt.replace(\" \",\"\")"
   ]
  },
  {
   "cell_type": "markdown",
   "id": "1b9e5540-4115-40f0-8e95-ea5ae78710a6",
   "metadata": {},
   "source": [
    "17. Check if two strings are anagrams"
   ]
  },
  {
   "cell_type": "code",
   "execution_count": 7,
   "id": "3c559fa0-42c1-4fd3-9fa3-5acd08efc2c8",
   "metadata": {},
   "outputs": [
    {
     "name": "stdout",
     "output_type": "stream",
     "text": [
      "True\n"
     ]
    }
   ],
   "source": [
    "a=\"hello\"\n",
    "b=\"lohle\"\n",
    "#An anagram of a string is another string that contains the same characters, only the order of characters can be different.\n",
    "print(sorted(a)==sorted(b))"
   ]
  },
  {
   "cell_type": "markdown",
   "id": "4f845dea-6951-498a-8dec-f731ab26b415",
   "metadata": {},
   "source": [
    "18. Check if a number is prime"
   ]
  },
  {
   "cell_type": "code",
   "execution_count": 15,
   "id": "7b0f4e5e-5649-4061-91ad-a1b062581f30",
   "metadata": {},
   "outputs": [
    {
     "name": "stdout",
     "output_type": "stream",
     "text": [
      "prime\n"
     ]
    }
   ],
   "source": [
    "n=5\n",
    "\n",
    "for i in range(2,n,1):\n",
    "    if n%i==0:\n",
    "        print(\"non\")\n",
    "        break\n",
    "else:\n",
    "    print(\"prime\")"
   ]
  },
  {
   "cell_type": "markdown",
   "id": "4b8c1ec1-b4b0-4ab7-af19-72afe531011b",
   "metadata": {},
   "source": [
    "19. Find the factorial of a number"
   ]
  },
  {
   "cell_type": "code",
   "execution_count": 20,
   "id": "c66641d8-6438-4e60-a71a-648d6aeca3c3",
   "metadata": {},
   "outputs": [
    {
     "name": "stdout",
     "output_type": "stream",
     "text": [
      "120\n"
     ]
    }
   ],
   "source": [
    "n=5\n",
    "fac=1\n",
    "for i in range(1,n+1):\n",
    "    fac*=i\n",
    "print(fac)"
   ]
  },
  {
   "cell_type": "markdown",
   "id": "5d70324c-25dc-4d10-865b-2dbfa16f7e2a",
   "metadata": {},
   "source": [
    "20. Generate a Fibonacci sequence (first 10 numbers)"
   ]
  },
  {
   "cell_type": "code",
   "execution_count": 50,
   "id": "8c2ce810-1cf5-405a-b27d-c2ab1cab104c",
   "metadata": {},
   "outputs": [
    {
     "name": "stdout",
     "output_type": "stream",
     "text": [
      "0 1 1 2 3 5 8 13 21 34 "
     ]
    }
   ],
   "source": [
    "n=10\n",
    "a=0\n",
    "b=1\n",
    "print(a,b,end=\" \")\n",
    "for i in range (2,n):\n",
    "    c=a+b\n",
    "    a=b\n",
    "    b=c\n",
    "    print(c, end=\" \")"
   ]
  },
  {
   "cell_type": "markdown",
   "id": "dddd6b12-104c-40c9-92c7-4059a1a09523",
   "metadata": {},
   "source": [
    "21. Sum of three given integers. However, if two values are equal sum will be zero"
   ]
  },
  {
   "cell_type": "code",
   "execution_count": 52,
   "id": "b21addf1-d959-4d89-a4ee-b3f7eac712d9",
   "metadata": {},
   "outputs": [
    {
     "data": {
      "text/plain": [
       "0"
      ]
     },
     "execution_count": 52,
     "metadata": {},
     "output_type": "execute_result"
    }
   ],
   "source": [
    "a,b,c=2,2,4\n",
    "a + b + c if len({a, b, c}) == 3 else 0"
   ]
  },
  {
   "cell_type": "markdown",
   "id": "916253b8-da8a-4045-bac2-1821716e4ccc",
   "metadata": {},
   "source": [
    "22. Find the longest word in a sentence"
   ]
  },
  {
   "cell_type": "code",
   "execution_count": 59,
   "id": "99dfa7f3-b4b8-414f-bfba-15dcfdd38727",
   "metadata": {},
   "outputs": [
    {
     "data": {
      "text/plain": [
       "'programming'"
      ]
     },
     "execution_count": 59,
     "metadata": {},
     "output_type": "execute_result"
    }
   ],
   "source": [
    "sent = \"Python is a powerful programming language\"\n",
    "max(sent.split(),key=len)"
   ]
  },
  {
   "cell_type": "markdown",
   "id": "4d6b49e1-d42e-4e70-adc9-6bfc3b93a807",
   "metadata": {},
   "source": [
    "23. Reverse words in a sentence"
   ]
  },
  {
   "cell_type": "code",
   "execution_count": 71,
   "id": "075a6033-ab1a-467e-ba05-23cc2af1e1ee",
   "metadata": {},
   "outputs": [
    {
     "name": "stdout",
     "output_type": "stream",
     "text": [
      "World Hello\n"
     ]
    }
   ],
   "source": [
    "sentence = \"Hello World\"\n",
    "print(\" \".join(sentence.split()[::-1]))"
   ]
  },
  {
   "cell_type": "markdown",
   "id": "cb07602b-4e73-4776-b500-7a00ab567f88",
   "metadata": {},
   "source": [
    "24. Check The is armstrong or not"
   ]
  },
  {
   "cell_type": "code",
   "execution_count": 77,
   "id": "3e47b67d-edc5-4acb-ad18-2129795ef8a8",
   "metadata": {},
   "outputs": [
    {
     "name": "stdout",
     "output_type": "stream",
     "text": [
      "True\n"
     ]
    }
   ],
   "source": [
    "n=153\n",
    "\n",
    "print(n==sum(int(num)**3 for num in str(n)))"
   ]
  },
  {
   "cell_type": "markdown",
   "id": "604f1e98-faec-417b-8b7b-cc7f468a0f00",
   "metadata": {},
   "source": [
    "25. Write a Python program to test whether a passed letter is a vowel or not."
   ]
  },
  {
   "cell_type": "code",
   "execution_count": 3,
   "id": "442ad69e-5388-4dee-a094-9e9afa6c65db",
   "metadata": {},
   "outputs": [
    {
     "name": "stdout",
     "output_type": "stream",
     "text": [
      "c\n"
     ]
    }
   ],
   "source": [
    "v= ['a','e','i','o','u','A','E','I','O','U']\n",
    "a='t'\n",
    "\n",
    "print('v') if a in v else print('c')"
   ]
  },
  {
   "cell_type": "markdown",
   "id": "5cca88c3-393a-4887-aa5f-ee82ff7d0290",
   "metadata": {},
   "source": [
    "26. Write a program to convert \"2 0 1 7\" to the list [2, 0, 1, 7]?"
   ]
  },
  {
   "cell_type": "code",
   "execution_count": 7,
   "id": "29d8d644-75dd-4130-9e60-a4bce0b4c0ff",
   "metadata": {},
   "outputs": [
    {
     "data": {
      "text/plain": [
       "[2, 0, 1, 7]"
      ]
     },
     "execution_count": 7,
     "metadata": {},
     "output_type": "execute_result"
    }
   ],
   "source": [
    "[int(i) for i in \"2 0 1 7\".split()]"
   ]
  },
  {
   "cell_type": "markdown",
   "id": "c909d4e1-2352-4235-a2be-bca134311ba4",
   "metadata": {},
   "source": [
    "27. Write a Python program that concatenates all elements in a list into a string and returns it."
   ]
  },
  {
   "cell_type": "code",
   "execution_count": 5,
   "id": "a9bd6d1a-fe2b-4e38-b8d4-b1d2c739241a",
   "metadata": {},
   "outputs": [
    {
     "data": {
      "text/plain": [
       "247643"
      ]
     },
     "execution_count": 5,
     "metadata": {},
     "output_type": "execute_result"
    }
   ],
   "source": [
    "lst=[2,4,7,6,4,3]\n",
    "int(\"\".join(map(str,lst)))"
   ]
  },
  {
   "cell_type": "markdown",
   "id": "59fbdc7f-42ad-47e4-81ca-b623d3c1d0a0",
   "metadata": {},
   "source": [
    "28. Write a Python program to sum three given integers. However, if two values are equal, the sum will be zero.(Triple Sum with Equality Rule)"
   ]
  },
  {
   "cell_type": "code",
   "execution_count": 12,
   "id": "41f18813-ad67-4466-bda5-ccae877d5d5b",
   "metadata": {},
   "outputs": [
    {
     "name": "stdout",
     "output_type": "stream",
     "text": [
      "0\n"
     ]
    }
   ],
   "source": [
    "a=4\n",
    "b=2\n",
    "c=2\n",
    "\n",
    "if a==b or b==c or c==a:\n",
    "    sum=0\n",
    "else:\n",
    "    sum=a+b+c\n",
    "print(sum)"
   ]
  },
  {
   "cell_type": "markdown",
   "id": "5ff4d571-ecc3-43e5-b3e6-774df137ae94",
   "metadata": {},
   "source": [
    "29. Write a Python program to sort three integers without using conditional statements and loops."
   ]
  },
  {
   "cell_type": "code",
   "execution_count": 5,
   "id": "fee0f291-0aa9-4b2b-a626-47e8695125e9",
   "metadata": {},
   "outputs": [
    {
     "name": "stdout",
     "output_type": "stream",
     "text": [
      "5\n",
      "9\n",
      "6\n"
     ]
    }
   ],
   "source": [
    "a=5\n",
    "b=6\n",
    "c=9\n",
    "\n",
    "mini=min(a,b,c)\n",
    "print(mini)\n",
    "maxi=max(a,b,c)\n",
    "print(maxi)\n",
    "mid=(a+b+c)-mini-maxi\n",
    "print(mid)"
   ]
  },
  {
   "cell_type": "markdown",
   "id": "c99bd850-7a52-4c13-b05b-8b55bb6aa009",
   "metadata": {},
   "source": [
    "30. Write a Python program to calculate the midpoints of a line."
   ]
  },
  {
   "cell_type": "code",
   "execution_count": 10,
   "id": "dc7951a8-e3be-4399-aabe-ddc488b20b6c",
   "metadata": {},
   "outputs": [
    {
     "name": "stdout",
     "output_type": "stream",
     "text": [
      "x_point 3.5\n",
      "y_point 7.5\n"
     ]
    }
   ],
   "source": [
    "x1,x2=4,3\n",
    "y1,y2=6,9\n",
    "\n",
    "x_point=(x1+x2)/2\n",
    "y_point=(y1+y2)/2\n",
    "print(\"x_point \"+str(x_point)+\"\\ny_point \"+str(y_point))"
   ]
  },
  {
   "cell_type": "markdown",
   "id": "a54e4199-13d9-4900-bbd4-f8aa30c4d9e5",
   "metadata": {},
   "source": [
    "31. Write a Python program to test whether all numbers in a list are greater than a certain number."
   ]
  },
  {
   "cell_type": "code",
   "execution_count": 12,
   "id": "1662038f-a957-4e5c-8fc3-59efb183f633",
   "metadata": {},
   "outputs": [
    {
     "data": {
      "text/plain": [
       "False"
      ]
     },
     "execution_count": 12,
     "metadata": {},
     "output_type": "execute_result"
    }
   ],
   "source": [
    "n=[3,5,6,2,3,1]\n",
    "\n",
    "all(x>1 for x in n)"
   ]
  },
  {
   "cell_type": "markdown",
   "id": "66573722-05da-47cc-88db-eef0e9fd98f9",
   "metadata": {},
   "source": [
    "32. Write a Python program to remove the first item from a specified list."
   ]
  },
  {
   "cell_type": "code",
   "execution_count": 15,
   "id": "afb0980d-816f-4329-b163-2013e027d15a",
   "metadata": {},
   "outputs": [
    {
     "name": "stdout",
     "output_type": "stream",
     "text": [
      "['green', 'purple', 'black', 'white']\n"
     ]
    }
   ],
   "source": [
    "lst=['red','green','purple','black','white']\n",
    "\n",
    "del lst[0]\n",
    "print(lst)"
   ]
  },
  {
   "cell_type": "markdown",
   "id": "a833943a-e288-41cf-8c53-72bca917a4a4",
   "metadata": {},
   "source": [
    "33. Write a Python program to format a specified string and limit the length of a string."
   ]
  },
  {
   "cell_type": "code",
   "execution_count": 16,
   "id": "bf7bd129-1027-4f9f-a67a-b75bead8145a",
   "metadata": {},
   "outputs": [
    {
     "name": "stdout",
     "output_type": "stream",
     "text": [
      "123456\n"
     ]
    }
   ],
   "source": [
    "stri = \"1234567890\"\n",
    "\n",
    "print('%.6s'%stri)"
   ]
  },
  {
   "cell_type": "markdown",
   "id": "b48e9e81-9362-446e-8ec4-6c55fdec61f4",
   "metadata": {},
   "source": [
    "34. Write a Python program to split a variable length string into variables."
   ]
  },
  {
   "cell_type": "code",
   "execution_count": 17,
   "id": "7b1e427b-eb4f-418a-b19f-940af71bb0a9",
   "metadata": {},
   "outputs": [
    {
     "name": "stdout",
     "output_type": "stream",
     "text": [
      "1 3 5 6 7\n"
     ]
    }
   ],
   "source": [
    "n=[1,3,5,6,7]\n",
    "a,b,c,d,e=n\n",
    "print(a,b,c,d,e)"
   ]
  },
  {
   "cell_type": "markdown",
   "id": "829593bb-0e67-458b-aba7-92eed83f6f72",
   "metadata": {},
   "source": [
    "35. Write a Python program to calculates the number of divisors"
   ]
  },
  {
   "cell_type": "code",
   "execution_count": 21,
   "id": "bcaf51e4-a5c8-41ae-8af4-d3ec0c47a5e3",
   "metadata": {},
   "outputs": [
    {
     "name": "stdout",
     "output_type": "stream",
     "text": [
      "6\n"
     ]
    }
   ],
   "source": [
    "n=12\n",
    "x = len([i for i in range(1, n + 1) if not n % i])\n",
    "print(x)"
   ]
  },
  {
   "cell_type": "markdown",
   "id": "56c919e9-1085-4753-8645-fb534a5be8f7",
   "metadata": {},
   "source": [
    "36. Write a Python program to compute the digit number of the sum of two given integers."
   ]
  },
  {
   "cell_type": "code",
   "execution_count": 47,
   "id": "2831c554-d904-452f-87b3-5591622e7fb3",
   "metadata": {},
   "outputs": [
    {
     "name": "stdout",
     "output_type": "stream",
     "text": [
      "Input two integers(ab): \n"
     ]
    },
    {
     "name": "stdin",
     "output_type": "stream",
     "text": [
      " 6856 98\n"
     ]
    },
    {
     "name": "stdout",
     "output_type": "stream",
     "text": [
      "4\n"
     ]
    }
   ],
   "source": [
    "print(\"Input two integers(ab): \")\n",
    "a, b = map(int, input().split())\n",
    "print(len(str(a + b)))\n"
   ]
  },
  {
   "cell_type": "markdown",
   "id": "0b153744-f561-480b-8f89-ed3a861e2348",
   "metadata": {},
   "source": [
    "37. Write a Python program for grading with map function"
   ]
  },
  {
   "cell_type": "code",
   "execution_count": 41,
   "id": "f81560e6-c250-4543-b364-dd7d498603fa",
   "metadata": {},
   "outputs": [
    {
     "name": "stdout",
     "output_type": "stream",
     "text": [
      "f:  ['b', 'd', 'a', 'd']\n"
     ]
    }
   ],
   "source": [
    "a=[80,39,93,54]\n",
    "def marks(a):\n",
    "    \n",
    "    if a>=90:\n",
    "        return \"a\"\n",
    "    elif a>=80:\n",
    "        return \"b\"\n",
    "    elif a>=70:\n",
    "        return \"c\"\n",
    "    else:\n",
    "        return \"d\"\n",
    "grades=map(marks,a)\n",
    "\n",
    "print(\"f: \",list(grades))\n"
   ]
  },
  {
   "cell_type": "markdown",
   "id": "1bca0f77-64dc-489d-9d91-653481550746",
   "metadata": {},
   "source": [
    "38. Write a Python program to check whether a given number is Oddish or Evenish."
   ]
  },
  {
   "cell_type": "code",
   "execution_count": 4,
   "id": "50086f4b-c8c2-42fd-a5b1-1ffcfb8f7375",
   "metadata": {},
   "outputs": [
    {
     "name": "stdout",
     "output_type": "stream",
     "text": [
      "Evenish\n"
     ]
    }
   ],
   "source": [
    "#A number is called \"Oddish\" if the sum of all of its digits is odd, and a number is called \"Evenish\" if the sum of all of its digits is even.\n",
    "\n",
    "n=8132\n",
    "summ=sum(int(i) for i in str(n))\n",
    "\n",
    "print(\"Evenish\") if summ%2==0 else print(\"Oddinsh\")"
   ]
  },
  {
   "cell_type": "markdown",
   "id": "05744bf8-97e9-47a6-bd45-01181f5662ea",
   "metadata": {},
   "source": [
    "39. Sum of the last digit of first number and the last digit of second number equal to the last digit of third number"
   ]
  },
  {
   "cell_type": "code",
   "execution_count": 16,
   "id": "f9904c32-9f1c-47e6-af57-e1060e04d68d",
   "metadata": {},
   "outputs": [
    {
     "name": "stdout",
     "output_type": "stream",
     "text": [
      "True\n"
     ]
    }
   ],
   "source": [
    "a=29426\n",
    "b=39423\n",
    "c=53789\n",
    "if int(str(a)[-1])+int(str(b)[-1])==int(str(c)[-1]):\n",
    "    print(\"True\")\n",
    "else:\n",
    "    print(\"False\")"
   ]
  },
  {
   "cell_type": "markdown",
   "id": "88c07d36-b5a0-4674-a4b3-d95e652064ab",
   "metadata": {},
   "source": [
    "40. Write a Python program to generate and print a list of numbers from 1 to 10."
   ]
  },
  {
   "cell_type": "code",
   "execution_count": 22,
   "id": "1ce5c0a2-5141-4957-a82b-28eaca1918e3",
   "metadata": {},
   "outputs": [
    {
     "data": {
      "text/plain": [
       "['1', '2', '3', '4', '5', '6', '7', '8', '9']"
      ]
     },
     "execution_count": 22,
     "metadata": {},
     "output_type": "execute_result"
    }
   ],
   "source": [
    "list(map(str,range(1,10)))"
   ]
  },
  {
   "cell_type": "markdown",
   "id": "640ca350-2ef1-48a4-8ee7-632c352b4cf5",
   "metadata": {},
   "source": [
    "41. Write a Python program to reverse a string"
   ]
  },
  {
   "cell_type": "code",
   "execution_count": 14,
   "id": "2e43c020-1b20-4e55-8e71-c2a6a0251680",
   "metadata": {},
   "outputs": [
    {
     "name": "stdout",
     "output_type": "stream",
     "text": [
      "dlroW olleH\n"
     ]
    }
   ],
   "source": [
    "sentence = \"Hello World\"\n",
    "print(sentence[::-1])"
   ]
  },
  {
   "cell_type": "markdown",
   "id": "cf310c0e-6701-4083-b9a1-0dc56f112ce3",
   "metadata": {},
   "source": [
    "42. Write a Python program where greater than 5 characters waord are being reversed"
   ]
  },
  {
   "cell_type": "code",
   "execution_count": 8,
   "id": "33c06422-f3c7-43f2-8936-334a394ec3c7",
   "metadata": {},
   "outputs": [
    {
     "data": {
      "text/plain": [
       "'nohtyP margorp to kcehc rehtehw a nevig'"
      ]
     },
     "execution_count": 8,
     "metadata": {},
     "output_type": "execute_result"
    }
   ],
   "source": [
    "sentence=' Python program to check whether a given'\n",
    "\" \".join([i[::-1] if len(i)>=5 else i for i in sentence.split()])"
   ]
  },
  {
   "cell_type": "markdown",
   "id": "fc4105d8-7967-4de1-ae38-52bcbb4c8902",
   "metadata": {},
   "source": [
    "43. Write a Python program to split a sting with space"
   ]
  },
  {
   "cell_type": "code",
   "execution_count": 17,
   "id": "e6ebfb62-0661-4e21-836e-027c92999c18",
   "metadata": {},
   "outputs": [
    {
     "data": {
      "text/plain": [
       "'H e l l o   W o r l d'"
      ]
     },
     "execution_count": 17,
     "metadata": {},
     "output_type": "execute_result"
    }
   ],
   "source": [
    "\" \".join(sentence)"
   ]
  },
  {
   "cell_type": "markdown",
   "id": "347be9b1-ae24-44dd-9b20-9a30053966b7",
   "metadata": {},
   "source": [
    "44. Write a python Program to convert a decimal number system to other number system"
   ]
  },
  {
   "cell_type": "code",
   "execution_count": 2,
   "id": "cb6d1a70-2c01-4e24-982e-4e3bc7ee8224",
   "metadata": {},
   "outputs": [
    {
     "name": "stdout",
     "output_type": "stream",
     "text": [
      "0b101010 0o52 0x2a\n"
     ]
    }
   ],
   "source": [
    "num = 42\n",
    "print(bin(num), oct(num), hex(num))"
   ]
  },
  {
   "cell_type": "markdown",
   "id": "8b6ed2d6-0705-4588-b7a6-21d4fe70292b",
   "metadata": {},
   "source": [
    "45. list to number"
   ]
  },
  {
   "cell_type": "code",
   "execution_count": 3,
   "id": "be2e2fa0-2ff7-482e-9338-52f17a50e236",
   "metadata": {},
   "outputs": [
    {
     "name": "stdout",
     "output_type": "stream",
     "text": [
      "1234\n"
     ]
    }
   ],
   "source": [
    "lst = [1, 2, 3, 4]\n",
    "num = int(\"\".join(map(str, lst)))\n",
    "print(num)\n"
   ]
  },
  {
   "cell_type": "markdown",
   "id": "32b2d8a1-b140-4f2c-9f6a-46a6c177c992",
   "metadata": {},
   "source": [
    "46. Write a Python program that counts the number of prime numbers that are less than a given non-negative number."
   ]
  },
  {
   "cell_type": "code",
   "execution_count": 17,
   "id": "24c5f686-4cbb-4475-adc9-c3b437b013cd",
   "metadata": {},
   "outputs": [
    {
     "name": "stdout",
     "output_type": "stream",
     "text": [
      "4\n"
     ]
    }
   ],
   "source": [
    "n,ctr= 10,0\n",
    "for num in range(n):\n",
    "    if num <= 1:  \n",
    "        continue\n",
    "    for i in range(2, num):\n",
    "        if (num % i) == 0:  \n",
    "            break\n",
    "    else:\n",
    "        ctr += 1\n",
    "print(ctr)"
   ]
  },
  {
   "cell_type": "markdown",
   "id": "6da83f7d-30f6-48d5-b00b-583fd0c34822",
   "metadata": {},
   "source": [
    "47. Write a Python program to check whether a given integer is a palindrome or not."
   ]
  },
  {
   "cell_type": "code",
   "execution_count": 22,
   "id": "dd29b14e-ce2d-48f6-bdf8-f3d47a902ccf",
   "metadata": {},
   "outputs": [
    {
     "name": "stdout",
     "output_type": "stream",
     "text": [
      "non\n"
     ]
    }
   ],
   "source": [
    "a=-323\n",
    "\n",
    "b=str(a)\n",
    "print(\"palindrom\") if b==b[::-1] else print(\"non\")"
   ]
  },
  {
   "cell_type": "markdown",
   "id": "ec7aaff1-70e9-42af-b296-fa78339a9400",
   "metadata": {},
   "source": [
    "48. Check whether a given string is an \"isogram\" or not"
   ]
  },
  {
   "cell_type": "code",
   "execution_count": 67,
   "id": "51aa308d-4229-4ba7-97d2-0343248461b6",
   "metadata": {},
   "outputs": [
    {
     "name": "stdout",
     "output_type": "stream",
     "text": [
      "False\n"
     ]
    }
   ],
   "source": [
    "a=\"hello\"\n",
    "#An isogram is a word with no repeating letters (such as ambidextrously)\n",
    "print(len(a)==len(set(a)))"
   ]
  },
  {
   "cell_type": "markdown",
   "id": "048bf8d1-b2ff-4a2d-a67f-d608c537fdf7",
   "metadata": {},
   "source": [
    "49. Check if a number is a palindrome"
   ]
  },
  {
   "cell_type": "code",
   "execution_count": 70,
   "id": "a8daff2f-33ad-48a7-bd4e-ccd499c18408",
   "metadata": {},
   "outputs": [
    {
     "name": "stdout",
     "output_type": "stream",
     "text": [
      "no\n"
     ]
    }
   ],
   "source": [
    "n=132\n",
    "\n",
    "m=n\n",
    "if str(n)==str(n)[::-1]:\n",
    "    print(\"yes\")\n",
    "else:\n",
    "    print(\"no\")"
   ]
  },
  {
   "cell_type": "markdown",
   "id": "d69ceb64-5717-491b-81fc-3d0580a79b49",
   "metadata": {},
   "source": [
    "50. Write a Python program to test whether a given integer is a Pandigital number or not."
   ]
  },
  {
   "cell_type": "code",
   "execution_count": 74,
   "id": "04c87f8b-d697-4f3f-a2f3-5e763321d060",
   "metadata": {},
   "outputs": [
    {
     "name": "stdout",
     "output_type": "stream",
     "text": [
      "True\n"
     ]
    }
   ],
   "source": [
    "#A number is said to be pandigital if it contains each of the digits from 0 to 9 (and whose leading digit must be nonzero)\n",
    "a=342984316161060147561\n",
    "print(len(set(str(a)))==10)"
   ]
  },
  {
   "cell_type": "code",
   "execution_count": null,
   "id": "b61201b3-e21a-413d-8c11-c03200170fce",
   "metadata": {},
   "outputs": [],
   "source": []
  }
 ],
 "metadata": {
  "kernelspec": {
   "display_name": "Python [conda env:base] *",
   "language": "python",
   "name": "conda-base-py"
  },
  "language_info": {
   "codemirror_mode": {
    "name": "ipython",
    "version": 3
   },
   "file_extension": ".py",
   "mimetype": "text/x-python",
   "name": "python",
   "nbconvert_exporter": "python",
   "pygments_lexer": "ipython3",
   "version": "3.12.7"
  }
 },
 "nbformat": 4,
 "nbformat_minor": 5
}
