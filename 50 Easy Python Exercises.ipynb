{
 "cells": [
  {
   "cell_type": "markdown",
   "id": "2f153db9-2880-4bcb-931f-ed5764112429",
   "metadata": {},
   "source": [
    "1. Print \"Hello, World!\""
   ]
  },
  {
   "cell_type": "markdown",
   "id": "48c4e40b-d38b-4031-8309-48e45da3ad39",
   "metadata": {},
   "source": [
    "2. Assign values to variables and print them"
   ]
  },
  {
   "cell_type": "markdown",
   "id": "bcf5dd26-49f4-4470-8bec-548ff700f5c1",
   "metadata": {},
   "source": [
    "3. Swap two numbers without using a third variable"
   ]
  },
  {
   "cell_type": "markdown",
   "id": "c54d2e08-5463-47bb-a988-a6f82dab5d1b",
   "metadata": {},
   "source": [
    "4. Find the maximum of two numbers"
   ]
  },
  {
   "cell_type": "markdown",
   "id": "5509d65b-03d3-4fa8-9519-5ab818b6cafd",
   "metadata": {},
   "source": [
    "5. Check if a number is even or odd"
   ]
  },
  {
   "cell_type": "markdown",
   "id": "1066247d-dead-434d-81ca-9aec91171f3b",
   "metadata": {},
   "source": [
    "6. Find the square of a number"
   ]
  },
  {
   "cell_type": "markdown",
   "id": "b56924ac-439c-4cac-9f7a-7384cd1fcb41",
   "metadata": {},
   "source": [
    "7. Find the cube of a number"
   ]
  },
  {
   "cell_type": "markdown",
   "id": "7d603038-6240-47f4-abb2-ac4d0b148a91",
   "metadata": {},
   "source": [
    "8. Calculate the area of a rectangle"
   ]
  },
  {
   "cell_type": "markdown",
   "id": "64ce6e7a-b224-415a-bd53-1a82ad091dc7",
   "metadata": {},
   "source": [
    "9. Calculate the perimeter of a rectangle"
   ]
  },
  {
   "cell_type": "markdown",
   "id": "5fb140ec-afa5-4fbc-9f07-9f92b188ce2e",
   "metadata": {},
   "source": [
    "10. Convert Celsius to Fahrenheit"
   ]
  },
  {
   "cell_type": "markdown",
   "id": "73aff9fa-b733-4ac2-ab15-6747edb5658a",
   "metadata": {},
   "source": [
    "11. Convert Fahrenheit to Celsius"
   ]
  },
  {
   "cell_type": "markdown",
   "id": "4aaa92c9-f303-40f8-a52e-a65e0ca5a936",
   "metadata": {},
   "source": [
    "12. Check if a number is positive, negative, or zero"
   ]
  },
  {
   "cell_type": "markdown",
   "id": "b744428f-cedf-4072-8d81-07bfd9efd8b6",
   "metadata": {},
   "source": [
    "13. Find the sum of two numbers"
   ]
  },
  {
   "cell_type": "markdown",
   "id": "b38fb1c8-5f95-4b20-b31c-7df93f390c4e",
   "metadata": {},
   "source": [
    "14. Find the difference between two numbers"
   ]
  },
  {
   "cell_type": "markdown",
   "id": "ec71e16f-d148-47be-8748-33f9bf6480a2",
   "metadata": {},
   "source": [
    "15. Multiply two numbers"
   ]
  },
  {
   "cell_type": "markdown",
   "id": "b0533975-89a3-4673-bc45-044eaea3a7ad",
   "metadata": {},
   "source": [
    "16. Divide two numbers"
   ]
  },
  {
   "cell_type": "markdown",
   "id": "b58736db-16c7-4a28-b0bd-666fafa8df6a",
   "metadata": {},
   "source": [
    "17. Find the remainder of a division"
   ]
  },
  {
   "cell_type": "markdown",
   "id": "4dda4d05-cbaa-4e6d-ba5e-7e49515e87c4",
   "metadata": {},
   "source": [
    "18. Find the quotient of a division"
   ]
  },
  {
   "cell_type": "markdown",
   "id": "cbfc85b9-fb3b-43c9-b0dc-257fbe081cbf",
   "metadata": {},
   "source": [
    "19. Check if a number is a multiple of another"
   ]
  },
  {
   "cell_type": "markdown",
   "id": "aef48946-67a9-44d3-a540-7fad87629ecd",
   "metadata": {},
   "source": [
    "20. Find the greatest among three numbers"
   ]
  },
  {
   "cell_type": "markdown",
   "id": "c425b8b9-0972-4332-bbaf-3335ab9fbf7e",
   "metadata": {},
   "source": [
    "21. Find the sum of digits of a number"
   ]
  },
  {
   "cell_type": "markdown",
   "id": "b092ad3c-ee58-440f-9289-333872e1de77",
   "metadata": {},
   "source": [
    "22. Reverse a number"
   ]
  },
  {
   "cell_type": "markdown",
   "id": "b46cbb84-bd0c-4d4c-a263-79c20d71dcb0",
   "metadata": {},
   "source": [
    "23. Find the average of numbers in a list"
   ]
  },
  {
   "cell_type": "markdown",
   "id": "3c7283b1-f216-44d6-8781-03522c5449dd",
   "metadata": {},
   "source": [
    "24. Find the maximum element in a list"
   ]
  },
  {
   "cell_type": "markdown",
   "id": "92e38a99-95b9-4f22-a7c7-cb43d7e1ce93",
   "metadata": {},
   "source": [
    "25. Find the GCD of two numbers"
   ]
  },
  {
   "cell_type": "markdown",
   "id": "c63e728b-383d-4fbb-824b-23820606451d",
   "metadata": {},
   "source": [
    "26. Find the LCM of two numbers"
   ]
  },
  {
   "cell_type": "markdown",
   "id": "9179c018-1020-470f-b97b-e65b5efaa7c4",
   "metadata": {},
   "source": [
    "27. Find the sum of the first N natural numbers"
   ]
  },
  {
   "cell_type": "markdown",
   "id": "dfe9a00a-657d-40f4-a5fb-5579e63106a8",
   "metadata": {},
   "source": [
    "28. Find the sum of all even numbers from 1 to N"
   ]
  },
  {
   "cell_type": "markdown",
   "id": "b27ce718-9746-4d7c-91b5-c18cca4b4797",
   "metadata": {},
   "source": [
    "29. Find the sum of all odd numbers from 1 to N"
   ]
  },
  {
   "cell_type": "markdown",
   "id": "1347b6bb-fa66-411b-827d-0e291ed3dacf",
   "metadata": {},
   "source": [
    "30. Count the number of digits in a number"
   ]
  },
  {
   "cell_type": "markdown",
   "id": "abeef88e-9c6d-4cfb-ad94-d4b67724589d",
   "metadata": {},
   "source": [
    "31. Find the largest digit in a number"
   ]
  },
  {
   "cell_type": "markdown",
   "id": "c1b672d3-d4bd-4e49-b2f2-8fd0ac20b0fd",
   "metadata": {},
   "source": [
    "32. Find the smallest digit in a number"
   ]
  },
  {
   "cell_type": "markdown",
   "id": "1c2f26a5-58b3-415d-ba1a-e89fe9b04bba",
   "metadata": {},
   "source": [
    "33. Print the ASCII value of a character"
   ]
  },
  {
   "cell_type": "markdown",
   "id": "e0e20e48-ca13-4311-8c8c-f44d2c8e2aa8",
   "metadata": {},
   "source": [
    "34. Print the character for a given ASCII value"
   ]
  },
  {
   "cell_type": "markdown",
   "id": "77150e84-cc5f-4631-8ede-2b4a476152b9",
   "metadata": {},
   "source": [
    "35. Reverse a string"
   ]
  },
  {
   "cell_type": "markdown",
   "id": "8747e102-b9ea-4ffe-9cdc-1e66629e02e2",
   "metadata": {},
   "source": [
    "36. Write a Python program to display the first and last colors from the following list. color_list = [\"Red\",\"Green\",\"White\" ,\"Black\"]"
   ]
  },
  {
   "cell_type": "markdown",
   "id": "c2ac8aff-835c-414a-aeca-761a83ec8839",
   "metadata": {},
   "source": [
    "37. Write a Python program that accepts an integer (n) and computes the value of n+nn+nnn."
   ]
  },
  {
   "cell_type": "markdown",
   "id": "126e52d0-3757-4e1f-8fd3-e7f684963769",
   "metadata": {},
   "source": [
    "38. Check if a string is a palindrome"
   ]
  },
  {
   "cell_type": "markdown",
   "id": "957c53ed-58f8-4fcb-a702-ba82607fa133",
   "metadata": {},
   "source": [
    "39. Count the vowels in a string"
   ]
  },
  {
   "cell_type": "markdown",
   "id": "21c75335-c9c7-437f-9341-89f95e1c476d",
   "metadata": {},
   "source": [
    "40. Count the consonants in a string"
   ]
  },
  {
   "cell_type": "markdown",
   "id": "be3c527a-d1e3-45c0-b172-ab751628608b",
   "metadata": {},
   "source": [
    "41. Convert a string to uppercase"
   ]
  },
  {
   "cell_type": "markdown",
   "id": "ad1a538e-ba7e-42eb-aa5c-3844554fc48f",
   "metadata": {},
   "source": [
    "42. Convert a string to lowercase"
   ]
  },
  {
   "cell_type": "markdown",
   "id": "c9e7bd43-98b5-47aa-abb6-e42910f5a3fe",
   "metadata": {},
   "source": [
    "43. Capitalize the first letter of a string"
   ]
  },
  {
   "cell_type": "markdown",
   "id": "d32d92d9-cf6a-4ee7-8524-3fac4d02523b",
   "metadata": {},
   "source": [
    "44. Convert a list to a string"
   ]
  },
  {
   "cell_type": "markdown",
   "id": "c3389597-c19b-4add-812d-6c8b302ded8a",
   "metadata": {},
   "source": [
    "45. Find the sum of a list"
   ]
  },
  {
   "cell_type": "markdown",
   "id": "be7700a7-7312-458c-ad2d-796d26539b1c",
   "metadata": {},
   "source": [
    "46. Write a Python program to get the volume of a sphere with radius six."
   ]
  },
  {
   "cell_type": "markdown",
   "id": "6a227dd2-0ffa-43a4-8e1c-d700ed951096",
   "metadata": {},
   "source": [
    "47. Write a Python program to concatenate two list"
   ]
  },
  {
   "cell_type": "markdown",
   "id": "38bbd76c-022b-4fb2-98ae-baccbdb3c33c",
   "metadata": {},
   "source": [
    "48. Write a Python program to sort a list"
   ]
  },
  {
   "cell_type": "markdown",
   "id": "877ed87a-8432-40ea-9d35-408c91bc7844",
   "metadata": {},
   "source": [
    "49. Write a python program to insert a item into list"
   ]
  },
  {
   "cell_type": "markdown",
   "id": "26105cca-8c19-498e-a12c-84571cb0bf8c",
   "metadata": {},
   "source": [
    "50. Write a python program to print a list in descending"
   ]
  }
 ],
 "metadata": {
  "kernelspec": {
   "display_name": "Python [conda env:base] *",
   "language": "python",
   "name": "conda-base-py"
  },
  "language_info": {
   "codemirror_mode": {
    "name": "ipython",
    "version": 3
   },
   "file_extension": ".py",
   "mimetype": "text/x-python",
   "name": "python",
   "nbconvert_exporter": "python",
   "pygments_lexer": "ipython3",
   "version": "3.12.7"
  }
 },
 "nbformat": 4,
 "nbformat_minor": 5
}
