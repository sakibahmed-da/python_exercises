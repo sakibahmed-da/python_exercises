{
 "cells": [
  {
   "cell_type": "markdown",
   "id": "2f153db9-2880-4bcb-931f-ed5764112429",
   "metadata": {},
   "source": [
    "1. Print \"Hello, World!\""
   ]
  },
  {
   "cell_type": "code",
   "execution_count": 2,
   "id": "46f193b9-a48f-4403-96e1-4090fab7b5a6",
   "metadata": {},
   "outputs": [
    {
     "name": "stdout",
     "output_type": "stream",
     "text": [
      "Hello, World!\n"
     ]
    }
   ],
   "source": [
    "print(\"Hello, World!\")"
   ]
  },
  {
   "cell_type": "markdown",
   "id": "48c4e40b-d38b-4031-8309-48e45da3ad39",
   "metadata": {},
   "source": [
    "2. Assign values to variables and print them"
   ]
  },
  {
   "cell_type": "code",
   "execution_count": 3,
   "id": "0426dcf1-90b4-48f1-8791-9a33454f89ca",
   "metadata": {},
   "outputs": [
    {
     "name": "stdout",
     "output_type": "stream",
     "text": [
      "9\n"
     ]
    }
   ],
   "source": [
    "a=9\n",
    "print(a)"
   ]
  },
  {
   "cell_type": "markdown",
   "id": "bcf5dd26-49f4-4470-8bec-548ff700f5c1",
   "metadata": {},
   "source": [
    "3. Swap two numbers without using a third variable"
   ]
  },
  {
   "cell_type": "code",
   "execution_count": 54,
   "id": "5b08274a-8940-4677-9414-c8004c044004",
   "metadata": {},
   "outputs": [
    {
     "name": "stdout",
     "output_type": "stream",
     "text": [
      "6 5\n"
     ]
    }
   ],
   "source": [
    "a=5\n",
    "b=6\n",
    "\n",
    "a=a+b\n",
    "b=a-b\n",
    "a=a-b\n",
    "\n",
    "print(a,b)"
   ]
  },
  {
   "cell_type": "code",
   "execution_count": 8,
   "id": "3e9bb291-219d-4e61-adc4-e3841bc67496",
   "metadata": {},
   "outputs": [
    {
     "name": "stdout",
     "output_type": "stream",
     "text": [
      "6 5\n"
     ]
    }
   ],
   "source": [
    "a,b=5,6\n",
    "b,a=a,b\n",
    "print(a,b)"
   ]
  },
  {
   "cell_type": "markdown",
   "id": "c54d2e08-5463-47bb-a988-a6f82dab5d1b",
   "metadata": {},
   "source": [
    "4. Find the maximum of two numbers"
   ]
  },
  {
   "cell_type": "code",
   "execution_count": 5,
   "id": "4892c718-b365-426e-8c75-959becfc9744",
   "metadata": {},
   "outputs": [
    {
     "name": "stdout",
     "output_type": "stream",
     "text": [
      "6\n"
     ]
    }
   ],
   "source": [
    "a=5\n",
    "b=6\n",
    "\n",
    "print(max(a,b))"
   ]
  },
  {
   "cell_type": "markdown",
   "id": "5509d65b-03d3-4fa8-9519-5ab818b6cafd",
   "metadata": {},
   "source": [
    "5. Check if a number is even or odd"
   ]
  },
  {
   "cell_type": "code",
   "execution_count": 7,
   "id": "1b824cdd-5acc-4d60-a943-8564a16bfc3a",
   "metadata": {},
   "outputs": [
    {
     "name": "stdout",
     "output_type": "stream",
     "text": [
      "odd\n"
     ]
    }
   ],
   "source": [
    "a=9\n",
    "if a%2==0:\n",
    "    print(\"even\")\n",
    "else:\n",
    "    print(\"odd\")"
   ]
  },
  {
   "cell_type": "markdown",
   "id": "1066247d-dead-434d-81ca-9aec91171f3b",
   "metadata": {},
   "source": [
    "6. Find the square of a number"
   ]
  },
  {
   "cell_type": "code",
   "execution_count": 2,
   "id": "173661b1-bdc9-41fb-8867-3cd48c634cf0",
   "metadata": {},
   "outputs": [
    {
     "name": "stdout",
     "output_type": "stream",
     "text": [
      "Square of a is 25\n"
     ]
    }
   ],
   "source": [
    "a=5\n",
    "print(\"Square of a is\",a**2)"
   ]
  },
  {
   "cell_type": "markdown",
   "id": "b56924ac-439c-4cac-9f7a-7384cd1fcb41",
   "metadata": {},
   "source": [
    "7. Find the cube of a number"
   ]
  },
  {
   "cell_type": "code",
   "execution_count": 10,
   "id": "0367521e-1384-4919-850e-b627c0434d85",
   "metadata": {},
   "outputs": [
    {
     "name": "stdout",
     "output_type": "stream",
     "text": [
      "125\n"
     ]
    }
   ],
   "source": [
    "print(a**3)"
   ]
  },
  {
   "cell_type": "markdown",
   "id": "7d603038-6240-47f4-abb2-ac4d0b148a91",
   "metadata": {},
   "source": [
    "8. Calculate the area of a rectangle"
   ]
  },
  {
   "cell_type": "code",
   "execution_count": 3,
   "id": "6584e4b1-e717-4237-903a-45bd337d8bc5",
   "metadata": {},
   "outputs": [
    {
     "name": "stdout",
     "output_type": "stream",
     "text": [
      "30\n"
     ]
    }
   ],
   "source": [
    "l=5\n",
    "w=6\n",
    "print(l*w)"
   ]
  },
  {
   "cell_type": "markdown",
   "id": "64ce6e7a-b224-415a-bd53-1a82ad091dc7",
   "metadata": {},
   "source": [
    "9. Calculate the perimeter of a rectangle"
   ]
  },
  {
   "cell_type": "code",
   "execution_count": 14,
   "id": "1e0a94e1-6672-498c-90ae-ad9cbb5355c5",
   "metadata": {},
   "outputs": [
    {
     "name": "stdout",
     "output_type": "stream",
     "text": [
      "20\n"
     ]
    }
   ],
   "source": [
    "print(2*(a+b))"
   ]
  },
  {
   "cell_type": "markdown",
   "id": "5fb140ec-afa5-4fbc-9f07-9f92b188ce2e",
   "metadata": {},
   "source": [
    "10. Convert Celsius to Fahrenheit"
   ]
  },
  {
   "cell_type": "code",
   "execution_count": 4,
   "id": "cd77fefd-8025-4841-9026-390c5e1e07cf",
   "metadata": {},
   "outputs": [
    {
     "name": "stdin",
     "output_type": "stream",
     "text": [
      "enter:  4\n"
     ]
    },
    {
     "name": "stdout",
     "output_type": "stream",
     "text": [
      "39.2\n"
     ]
    }
   ],
   "source": [
    "c=int(input(\"enter: \"))\n",
    "\n",
    "f=(c*(9/5))+32\n",
    "print(f)"
   ]
  },
  {
   "cell_type": "markdown",
   "id": "73aff9fa-b733-4ac2-ab15-6747edb5658a",
   "metadata": {},
   "source": [
    "11. Convert Fahrenheit to Celsius"
   ]
  },
  {
   "cell_type": "code",
   "execution_count": 21,
   "id": "3a68c697-0b50-4b5c-b6cc-4713c9cbf38e",
   "metadata": {},
   "outputs": [
    {
     "name": "stdout",
     "output_type": "stream",
     "text": [
      "32.22\n"
     ]
    }
   ],
   "source": [
    "s=90\n",
    "c=(5*(s-32))/9\n",
    "print(round(c,2))"
   ]
  },
  {
   "cell_type": "markdown",
   "id": "4aaa92c9-f303-40f8-a52e-a65e0ca5a936",
   "metadata": {},
   "source": [
    "12. Check if a number is positive, negative, or zero"
   ]
  },
  {
   "cell_type": "code",
   "execution_count": 19,
   "id": "01905e69-f784-4153-b46f-149c07f1634e",
   "metadata": {},
   "outputs": [
    {
     "name": "stdin",
     "output_type": "stream",
     "text": [
      "enter:  4\n"
     ]
    },
    {
     "name": "stdout",
     "output_type": "stream",
     "text": [
      "positive\n"
     ]
    }
   ],
   "source": [
    "d=int(input(\"enter: \"))\n",
    "\n",
    "if d<0:\n",
    "    print(\"negetive\")\n",
    "elif d==0:\n",
    "    print(\"zero\")\n",
    "else:\n",
    "    print(\"positive\")"
   ]
  },
  {
   "cell_type": "markdown",
   "id": "b744428f-cedf-4072-8d81-07bfd9efd8b6",
   "metadata": {},
   "source": [
    "13. Find the sum of two numbers"
   ]
  },
  {
   "cell_type": "code",
   "execution_count": 25,
   "id": "54d7c4ea-a617-4783-913d-bdc53a66c31e",
   "metadata": {},
   "outputs": [
    {
     "name": "stdin",
     "output_type": "stream",
     "text": [
      "enter 3\n",
      "enter 4\n"
     ]
    },
    {
     "name": "stdout",
     "output_type": "stream",
     "text": [
      "7\n"
     ]
    }
   ],
   "source": [
    "q=int(input(\"enter: \"))\n",
    "w=int(input(\"enter: \"))\n",
    "\n",
    "print(q+w)"
   ]
  },
  {
   "cell_type": "markdown",
   "id": "b38fb1c8-5f95-4b20-b31c-7df93f390c4e",
   "metadata": {},
   "source": [
    "14. Find the difference between two numbers"
   ]
  },
  {
   "cell_type": "code",
   "execution_count": 20,
   "id": "001f22d4-f119-4f95-b843-e61ac2239b4a",
   "metadata": {},
   "outputs": [
    {
     "name": "stdout",
     "output_type": "stream",
     "text": [
      "-3\n"
     ]
    }
   ],
   "source": [
    "q,w=4,7\n",
    "print(q-w)"
   ]
  },
  {
   "cell_type": "markdown",
   "id": "ec71e16f-d148-47be-8748-33f9bf6480a2",
   "metadata": {},
   "source": [
    "15. Multiply two numbers"
   ]
  },
  {
   "cell_type": "code",
   "execution_count": 21,
   "id": "3f588a7e-2c73-4cdf-8dc9-6c9bb3bc5f30",
   "metadata": {},
   "outputs": [
    {
     "name": "stdout",
     "output_type": "stream",
     "text": [
      "10\n"
     ]
    }
   ],
   "source": [
    "q,w=5,2\n",
    "print(q*w)"
   ]
  },
  {
   "cell_type": "markdown",
   "id": "b0533975-89a3-4673-bc45-044eaea3a7ad",
   "metadata": {},
   "source": [
    "16. Divide two numbers"
   ]
  },
  {
   "cell_type": "code",
   "execution_count": 22,
   "id": "4c38bf34-7951-42ab-a96c-181b842c1e89",
   "metadata": {},
   "outputs": [
    {
     "name": "stdout",
     "output_type": "stream",
     "text": [
      "4.5\n"
     ]
    }
   ],
   "source": [
    "q,w=9,2\n",
    "print(q/w)"
   ]
  },
  {
   "cell_type": "markdown",
   "id": "b58736db-16c7-4a28-b0bd-666fafa8df6a",
   "metadata": {},
   "source": [
    "17. Find the remainder of a division"
   ]
  },
  {
   "cell_type": "code",
   "execution_count": 23,
   "id": "fe09b4eb-d273-487d-a9c7-e3326edb963f",
   "metadata": {},
   "outputs": [
    {
     "name": "stdout",
     "output_type": "stream",
     "text": [
      "1\n"
     ]
    }
   ],
   "source": [
    "q,w=9,4\n",
    "print(q%w)"
   ]
  },
  {
   "cell_type": "markdown",
   "id": "4dda4d05-cbaa-4e6d-ba5e-7e49515e87c4",
   "metadata": {},
   "source": [
    "18. Find the quotient of a division"
   ]
  },
  {
   "cell_type": "code",
   "execution_count": 25,
   "id": "dbd47028-ec2a-439f-b77b-82bf245378ab",
   "metadata": {},
   "outputs": [
    {
     "name": "stdout",
     "output_type": "stream",
     "text": [
      "2\n"
     ]
    }
   ],
   "source": [
    "q,w=9,4\n",
    "print(q//w)"
   ]
  },
  {
   "cell_type": "markdown",
   "id": "cbfc85b9-fb3b-43c9-b0dc-257fbe081cbf",
   "metadata": {},
   "source": [
    "19. Check if a number is a multiple of another"
   ]
  },
  {
   "cell_type": "code",
   "execution_count": 36,
   "id": "d70b797a-b8e5-43f6-b1ce-88f2b9191e70",
   "metadata": {},
   "outputs": [
    {
     "name": "stdout",
     "output_type": "stream",
     "text": [
      "no\n"
     ]
    }
   ],
   "source": [
    "a,b=3,10\n",
    "if b%a==0:\n",
    "    print(\"yes\")\n",
    "else:\n",
    "    print(\"no\")"
   ]
  },
  {
   "cell_type": "markdown",
   "id": "aef48946-67a9-44d3-a540-7fad87629ecd",
   "metadata": {},
   "source": [
    "20. Find the greatest among three numbers"
   ]
  },
  {
   "cell_type": "code",
   "execution_count": 37,
   "id": "dac683d6-1ce1-4b4b-afad-03cbe6865ddf",
   "metadata": {},
   "outputs": [
    {
     "name": "stdout",
     "output_type": "stream",
     "text": [
      "6\n"
     ]
    }
   ],
   "source": [
    "a,b,c=4,6,2\n",
    "print(max(a,b,c))"
   ]
  },
  {
   "cell_type": "markdown",
   "id": "c425b8b9-0972-4332-bbaf-3335ab9fbf7e",
   "metadata": {},
   "source": [
    "21. Find the sum of digits of a number"
   ]
  },
  {
   "cell_type": "code",
   "execution_count": 27,
   "id": "a61269d6-139d-44db-b7fc-32bf9f6e3deb",
   "metadata": {},
   "outputs": [
    {
     "name": "stdout",
     "output_type": "stream",
     "text": [
      "6\n"
     ]
    }
   ],
   "source": [
    "num = 123\n",
    "print(sum(int(d) for d in str(num)))\n"
   ]
  },
  {
   "cell_type": "markdown",
   "id": "b092ad3c-ee58-440f-9289-333872e1de77",
   "metadata": {},
   "source": [
    "22. Reverse a number"
   ]
  },
  {
   "cell_type": "code",
   "execution_count": 28,
   "id": "aa3313a2-39b8-4415-8953-b68879130876",
   "metadata": {},
   "outputs": [
    {
     "name": "stdout",
     "output_type": "stream",
     "text": [
      "43809\n"
     ]
    }
   ],
   "source": [
    "num=90834\n",
    "print(int(str(num)[::-1]))"
   ]
  },
  {
   "cell_type": "markdown",
   "id": "b46cbb84-bd0c-4d4c-a263-79c20d71dcb0",
   "metadata": {},
   "source": [
    "23. Find the average of numbers in a list"
   ]
  },
  {
   "cell_type": "code",
   "execution_count": 35,
   "id": "8a93b082-155d-488f-80c4-e422c675a181",
   "metadata": {},
   "outputs": [
    {
     "name": "stdout",
     "output_type": "stream",
     "text": [
      "3.0\n",
      "3.0\n"
     ]
    }
   ],
   "source": [
    "n=[1,2,3,4,5]\n",
    "print(sum(n)/len(n))\n",
    "\n",
    "m=12345\n",
    "print(sum(int(d) for d in str(m))/len(str(m)))"
   ]
  },
  {
   "cell_type": "markdown",
   "id": "3c7283b1-f216-44d6-8781-03522c5449dd",
   "metadata": {},
   "source": [
    "24. Find the maximum element in a list"
   ]
  },
  {
   "cell_type": "code",
   "execution_count": 30,
   "id": "7d5ab46c-2285-4e74-b4aa-03c3cd5a97f5",
   "metadata": {},
   "outputs": [
    {
     "data": {
      "text/plain": [
       "9"
      ]
     },
     "execution_count": 30,
     "metadata": {},
     "output_type": "execute_result"
    }
   ],
   "source": [
    "n=[3,4,5,2,4,5,9]\n",
    "max(n)"
   ]
  },
  {
   "cell_type": "markdown",
   "id": "92e38a99-95b9-4f22-a7c7-cb43d7e1ce93",
   "metadata": {},
   "source": [
    "25. Find the GCD of two numbers"
   ]
  },
  {
   "cell_type": "code",
   "execution_count": 42,
   "id": "231fda99-df9f-4364-8410-cc7a48097d4d",
   "metadata": {},
   "outputs": [
    {
     "data": {
      "text/plain": [
       "1"
      ]
     },
     "execution_count": 42,
     "metadata": {},
     "output_type": "execute_result"
    }
   ],
   "source": [
    "import math\n",
    "\n",
    "math.gcd(3,5,15,12,14,30)"
   ]
  },
  {
   "cell_type": "markdown",
   "id": "c63e728b-383d-4fbb-824b-23820606451d",
   "metadata": {},
   "source": [
    "26. Find the LCM of two numbers"
   ]
  },
  {
   "cell_type": "code",
   "execution_count": 43,
   "id": "6d9ae55c-b376-466f-b523-049bd4ec0fcc",
   "metadata": {},
   "outputs": [
    {
     "data": {
      "text/plain": [
       "60"
      ]
     },
     "execution_count": 43,
     "metadata": {},
     "output_type": "execute_result"
    }
   ],
   "source": [
    "math.lcm(4,5,6,3)"
   ]
  },
  {
   "cell_type": "markdown",
   "id": "9179c018-1020-470f-b97b-e65b5efaa7c4",
   "metadata": {},
   "source": [
    "27. Find the sum of the first N natural numbers"
   ]
  },
  {
   "cell_type": "code",
   "execution_count": 47,
   "id": "b442c1fa-5911-4b42-a8b0-653c43fc3189",
   "metadata": {},
   "outputs": [
    {
     "name": "stdin",
     "output_type": "stream",
     "text": [
      "enter 10\n"
     ]
    },
    {
     "name": "stdout",
     "output_type": "stream",
     "text": [
      "55\n"
     ]
    }
   ],
   "source": [
    "num=int(input(\"enter\"))\n",
    "sum=0\n",
    "for i in range(1,num+1,1):\n",
    "    sum+=i\n",
    "print(sum)"
   ]
  },
  {
   "cell_type": "markdown",
   "id": "dfe9a00a-657d-40f4-a5fb-5579e63106a8",
   "metadata": {},
   "source": [
    "28. Find the sum of all even numbers from 1 to N"
   ]
  },
  {
   "cell_type": "code",
   "execution_count": 48,
   "id": "f64baa93-d7a6-4ac5-a819-c011151935f6",
   "metadata": {},
   "outputs": [
    {
     "name": "stdout",
     "output_type": "stream",
     "text": [
      "30\n"
     ]
    }
   ],
   "source": [
    "num=int(input(\"enter\"))\n",
    "sum=0\n",
    "for i in range(2,num+1,2):\n",
    "    sum+=i\n",
    "print(sum)"
   ]
  },
  {
   "cell_type": "markdown",
   "id": "b27ce718-9746-4d7c-91b5-c18cca4b4797",
   "metadata": {},
   "source": [
    "29. Find the sum of all odd numbers from 1 to N"
   ]
  },
  {
   "cell_type": "code",
   "execution_count": 49,
   "id": "f7aeb47f-e557-4ecc-a775-2342f3d7e248",
   "metadata": {},
   "outputs": [
    {
     "name": "stdout",
     "output_type": "stream",
     "text": [
      "25\n"
     ]
    }
   ],
   "source": [
    "num=int(input(\"enter\"))\n",
    "sum=0\n",
    "for i in range(1,num+1,2):\n",
    "    sum+=i\n",
    "print(sum)"
   ]
  },
  {
   "cell_type": "markdown",
   "id": "1347b6bb-fa66-411b-827d-0e291ed3dacf",
   "metadata": {},
   "source": [
    "30. Count the number of digits in a number"
   ]
  },
  {
   "cell_type": "code",
   "execution_count": 31,
   "id": "b2412f7d-6b6d-42dd-8b52-5e29cc697c48",
   "metadata": {},
   "outputs": [
    {
     "name": "stdin",
     "output_type": "stream",
     "text": [
      "enter:  42342\n"
     ]
    },
    {
     "name": "stdout",
     "output_type": "stream",
     "text": [
      "5\n"
     ]
    }
   ],
   "source": [
    "n = input(\"enter: \")\n",
    "print(len(n))\n"
   ]
  },
  {
   "cell_type": "markdown",
   "id": "abeef88e-9c6d-4cfb-ad94-d4b67724589d",
   "metadata": {},
   "source": [
    "31. Find the largest digit in a number"
   ]
  },
  {
   "cell_type": "code",
   "execution_count": 11,
   "id": "3208e126-b781-40db-b070-a85cbc0c3c96",
   "metadata": {},
   "outputs": [
    {
     "data": {
      "text/plain": [
       "4"
      ]
     },
     "execution_count": 11,
     "metadata": {},
     "output_type": "execute_result"
    }
   ],
   "source": [
    "a=1234\n",
    "max(int(d) for d in str(a))"
   ]
  },
  {
   "cell_type": "markdown",
   "id": "c1b672d3-d4bd-4e49-b2f2-8fd0ac20b0fd",
   "metadata": {},
   "source": [
    "32. Find the smallest digit in a number"
   ]
  },
  {
   "cell_type": "code",
   "execution_count": 14,
   "id": "70c5344a-89ae-4ea4-ad1b-e0c165dca6ec",
   "metadata": {},
   "outputs": [
    {
     "name": "stdout",
     "output_type": "stream",
     "text": [
      "2\n"
     ]
    }
   ],
   "source": [
    "a=323898924\n",
    "print(min(int(d) for d in str(a)))"
   ]
  },
  {
   "cell_type": "markdown",
   "id": "1c2f26a5-58b3-415d-ba1a-e89fe9b04bba",
   "metadata": {},
   "source": [
    "33. Print the ASCII value of a character"
   ]
  },
  {
   "cell_type": "code",
   "execution_count": 33,
   "id": "c13bd6ce-3503-4852-a7fb-42ed9ab4817f",
   "metadata": {},
   "outputs": [
    {
     "name": "stdout",
     "output_type": "stream",
     "text": [
      "70\n"
     ]
    }
   ],
   "source": [
    "print(ord('F'))"
   ]
  },
  {
   "cell_type": "markdown",
   "id": "e0e20e48-ca13-4311-8c8c-f44d2c8e2aa8",
   "metadata": {},
   "source": [
    "34. Print the character for a given ASCII value"
   ]
  },
  {
   "cell_type": "code",
   "execution_count": null,
   "id": "f06f54f6-4997-4174-a08e-9d093610d5d5",
   "metadata": {},
   "outputs": [],
   "source": [
    "chr(89)"
   ]
  },
  {
   "cell_type": "markdown",
   "id": "77150e84-cc5f-4631-8ede-2b4a476152b9",
   "metadata": {},
   "source": [
    "35. Reverse a string"
   ]
  },
  {
   "cell_type": "code",
   "execution_count": 35,
   "id": "e7c2c717-5d0d-43bb-b3d5-80d003beff87",
   "metadata": {},
   "outputs": [
    {
     "name": "stdout",
     "output_type": "stream",
     "text": [
      "yad\n"
     ]
    }
   ],
   "source": [
    "h='day'\n",
    "\n",
    "print(h[::-1])"
   ]
  },
  {
   "cell_type": "markdown",
   "id": "8747e102-b9ea-4ffe-9cdc-1e66629e02e2",
   "metadata": {},
   "source": [
    "36. Write a Python program to display the first and last colors from the following list. color_list = [\"Red\",\"Green\",\"White\" ,\"Black\"]"
   ]
  },
  {
   "cell_type": "code",
   "execution_count": 36,
   "id": "eae9712a-7c33-4e22-bab7-0939d18ae9d4",
   "metadata": {},
   "outputs": [
    {
     "name": "stdout",
     "output_type": "stream",
     "text": [
      "Black\n",
      "Red\n"
     ]
    }
   ],
   "source": [
    "colors = [\"Red\",\"Green\",\"White\" ,\"Black\"]\n",
    "print(colors[-1])\n",
    "print(colors[0])"
   ]
  },
  {
   "cell_type": "markdown",
   "id": "c2ac8aff-835c-414a-aeca-761a83ec8839",
   "metadata": {},
   "source": [
    "37. Write a Python program that accepts an integer (n) and computes the value of n+nn+nnn."
   ]
  },
  {
   "cell_type": "code",
   "execution_count": 16,
   "id": "e2a28149-607a-4cfa-97f1-2a5afa9686b2",
   "metadata": {},
   "outputs": [
    {
     "name": "stdin",
     "output_type": "stream",
     "text": [
      "Enter a number:  3\n"
     ]
    },
    {
     "name": "stdout",
     "output_type": "stream",
     "text": [
      "369\n"
     ]
    }
   ],
   "source": [
    "n = input(\"Enter a number: \")\n",
    "a = int(n)\n",
    "b = int(f\"{n}{n}\")\n",
    "c = int(f\"{n}{n}{n}\")\n",
    "print(a + b + c)"
   ]
  },
  {
   "cell_type": "markdown",
   "id": "126e52d0-3757-4e1f-8fd3-e7f684963769",
   "metadata": {},
   "source": [
    "38. Check if a string is a palindrome"
   ]
  },
  {
   "cell_type": "code",
   "execution_count": 37,
   "id": "d13e24af-7a86-4aa5-9462-999e5e539838",
   "metadata": {},
   "outputs": [
    {
     "data": {
      "text/plain": [
       "False"
      ]
     },
     "execution_count": 37,
     "metadata": {},
     "output_type": "execute_result"
    }
   ],
   "source": [
    "t='python'\n",
    "\n",
    "t==t[::-1]"
   ]
  },
  {
   "cell_type": "markdown",
   "id": "957c53ed-58f8-4fcb-a702-ba82607fa133",
   "metadata": {},
   "source": [
    "39. Count the vowels in a string"
   ]
  },
  {
   "cell_type": "code",
   "execution_count": 38,
   "id": "53c3773d-48ca-4a6f-b9e4-c3d854977c07",
   "metadata": {},
   "outputs": [
    {
     "name": "stdout",
     "output_type": "stream",
     "text": [
      "3\n",
      "3\n"
     ]
    }
   ],
   "source": [
    "t=\"Hello Python %\"\n",
    "print(sum(1 for c in t.lower() if c in \"aeiou\"))\n",
    "print(sum(t.count(vowel) for vowel in \"aeiou\"))\n"
   ]
  },
  {
   "cell_type": "markdown",
   "id": "21c75335-c9c7-437f-9341-89f95e1c476d",
   "metadata": {},
   "source": [
    "40. Count the consonants in a string"
   ]
  },
  {
   "cell_type": "code",
   "execution_count": 47,
   "id": "e9f2dcf0-b3f8-4aeb-b2a2-7ef820b7217d",
   "metadata": {},
   "outputs": [
    {
     "data": {
      "text/plain": [
       "22"
      ]
     },
     "execution_count": 47,
     "metadata": {},
     "output_type": "execute_result"
    }
   ],
   "source": [
    "t='Hello Python %'\n",
    "sum(t.count(v) for v in t if v.isalpha() and v not in \"aeiou\")"
   ]
  },
  {
   "cell_type": "markdown",
   "id": "be3c527a-d1e3-45c0-b172-ab751628608b",
   "metadata": {},
   "source": [
    "41. Convert a string to uppercase"
   ]
  },
  {
   "cell_type": "code",
   "execution_count": 39,
   "id": "23096e3d-bc9a-486b-8628-d51b792b19d5",
   "metadata": {},
   "outputs": [
    {
     "data": {
      "text/plain": [
       "'HELLO PYTHON %'"
      ]
     },
     "execution_count": 39,
     "metadata": {},
     "output_type": "execute_result"
    }
   ],
   "source": [
    "t.upper()"
   ]
  },
  {
   "cell_type": "markdown",
   "id": "ad1a538e-ba7e-42eb-aa5c-3844554fc48f",
   "metadata": {},
   "source": [
    "42. Convert a string to lowercase"
   ]
  },
  {
   "cell_type": "code",
   "execution_count": 40,
   "id": "6286fca7-a4a6-4ef5-a99d-6dda4d35e2d3",
   "metadata": {},
   "outputs": [
    {
     "data": {
      "text/plain": [
       "'hello python %'"
      ]
     },
     "execution_count": 40,
     "metadata": {},
     "output_type": "execute_result"
    }
   ],
   "source": [
    "t.lower()"
   ]
  },
  {
   "cell_type": "markdown",
   "id": "c9e7bd43-98b5-47aa-abb6-e42910f5a3fe",
   "metadata": {},
   "source": [
    "43. Capitalize the first letter of a string"
   ]
  },
  {
   "cell_type": "code",
   "execution_count": 41,
   "id": "0ba4f04d-7c04-4d79-92eb-a8a07da5011e",
   "metadata": {},
   "outputs": [
    {
     "data": {
      "text/plain": [
       "'Hello python %'"
      ]
     },
     "execution_count": 41,
     "metadata": {},
     "output_type": "execute_result"
    }
   ],
   "source": [
    "t.capitalize()"
   ]
  },
  {
   "cell_type": "markdown",
   "id": "d32d92d9-cf6a-4ee7-8524-3fac4d02523b",
   "metadata": {},
   "source": [
    "44. Convert a list to a string"
   ]
  },
  {
   "cell_type": "code",
   "execution_count": 44,
   "id": "4a8c87c8-0215-48a6-bf1d-695152fc0330",
   "metadata": {},
   "outputs": [
    {
     "name": "stdout",
     "output_type": "stream",
     "text": [
      "345631\n"
     ]
    }
   ],
   "source": [
    "list=['3','4','5','6','3','1']\n",
    "print(\"\".join(list))"
   ]
  },
  {
   "cell_type": "markdown",
   "id": "c3389597-c19b-4add-812d-6c8b302ded8a",
   "metadata": {},
   "source": [
    "45. Find the sum of a list"
   ]
  },
  {
   "cell_type": "code",
   "execution_count": 45,
   "id": "19144e41-61cc-4e1b-98c2-ee827af0b5c4",
   "metadata": {},
   "outputs": [
    {
     "data": {
      "text/plain": [
       "25"
      ]
     },
     "execution_count": 45,
     "metadata": {},
     "output_type": "execute_result"
    }
   ],
   "source": [
    "list=[3,4,5,6,7]\n",
    "sum(list)"
   ]
  },
  {
   "cell_type": "markdown",
   "id": "be7700a7-7312-458c-ad2d-796d26539b1c",
   "metadata": {},
   "source": [
    "46. Write a Python program to get the volume of a sphere with radius six."
   ]
  },
  {
   "cell_type": "code",
   "execution_count": 47,
   "id": "e85586f6-5a69-4dea-861e-5830161d2dc6",
   "metadata": {},
   "outputs": [
    {
     "name": "stdout",
     "output_type": "stream",
     "text": [
      "904.78\n"
     ]
    }
   ],
   "source": [
    "r=6\n",
    "v=(4/3)*3.1416*r**3\n",
    "print(round(v,2))"
   ]
  },
  {
   "cell_type": "markdown",
   "id": "6a227dd2-0ffa-43a4-8e1c-d700ed951096",
   "metadata": {},
   "source": [
    "47. Write a Python program to concatenate two list"
   ]
  },
  {
   "cell_type": "code",
   "execution_count": 48,
   "id": "826eb12d-c2fd-4855-90bc-58f921684fe0",
   "metadata": {},
   "outputs": [
    {
     "name": "stdout",
     "output_type": "stream",
     "text": [
      "[4, 5, 6, 7, 1, 6, 7, 8]\n"
     ]
    }
   ],
   "source": [
    "a,b=[4,5,6,7],[1,6,7,8]\n",
    "print(a+b)"
   ]
  },
  {
   "cell_type": "markdown",
   "id": "38bbd76c-022b-4fb2-98ae-baccbdb3c33c",
   "metadata": {},
   "source": [
    "48. Write a Python program to sort a list"
   ]
  },
  {
   "cell_type": "code",
   "execution_count": 52,
   "id": "998f3700-f5c8-44ae-a53a-57c819c63054",
   "metadata": {},
   "outputs": [
    {
     "name": "stdout",
     "output_type": "stream",
     "text": [
      "[2, 2, 3, 5, 6]\n"
     ]
    }
   ],
   "source": [
    "a=[2,5,6,3,2]\n",
    "a.sort()\n",
    "print(a)"
   ]
  },
  {
   "cell_type": "markdown",
   "id": "877ed87a-8432-40ea-9d35-408c91bc7844",
   "metadata": {},
   "source": [
    "49. Write a python program to insert a item into list"
   ]
  },
  {
   "cell_type": "code",
   "execution_count": 56,
   "id": "c081b698-2c37-49b0-97ec-111f6d515357",
   "metadata": {},
   "outputs": [
    {
     "name": "stdout",
     "output_type": "stream",
     "text": [
      "[2, 5, 6, 6, 3, 2]\n"
     ]
    }
   ],
   "source": [
    "a=[2,5,6,3,2]\n",
    "a.insert(2, 6)\n",
    "print(a)"
   ]
  },
  {
   "cell_type": "markdown",
   "id": "26105cca-8c19-498e-a12c-84571cb0bf8c",
   "metadata": {},
   "source": [
    "50. Write a python program to print a list in descending"
   ]
  },
  {
   "cell_type": "code",
   "execution_count": 58,
   "id": "19c0a0b2-a8fa-4b90-a9fb-6c597cd292c8",
   "metadata": {},
   "outputs": [
    {
     "name": "stdout",
     "output_type": "stream",
     "text": [
      "[6, 5, 3, 2, 2]\n"
     ]
    }
   ],
   "source": [
    "a=[2,5,6,3,2]\n",
    "a.sort(reverse=True)\n",
    "print(a)"
   ]
  },
  {
   "cell_type": "code",
   "execution_count": null,
   "id": "29860963-87a8-4544-b520-4d5dc564d204",
   "metadata": {},
   "outputs": [],
   "source": []
  }
 ],
 "metadata": {
  "kernelspec": {
   "display_name": "Python [conda env:base] *",
   "language": "python",
   "name": "conda-base-py"
  },
  "language_info": {
   "codemirror_mode": {
    "name": "ipython",
    "version": 3
   },
   "file_extension": ".py",
   "mimetype": "text/x-python",
   "name": "python",
   "nbconvert_exporter": "python",
   "pygments_lexer": "ipython3",
   "version": "3.12.7"
  }
 },
 "nbformat": 4,
 "nbformat_minor": 5
}
