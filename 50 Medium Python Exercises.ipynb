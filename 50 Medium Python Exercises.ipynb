{
 "cells": [
  {
   "cell_type": "markdown",
   "id": "38ad02f9-32d3-4c82-938f-251219632416",
   "metadata": {},
   "source": [
    "1. Find the intersection of two lists"
   ]
  },
  {
   "cell_type": "markdown",
   "id": "436b4f20-d1ef-439c-8b6c-cefff4420526",
   "metadata": {},
   "source": [
    "2. Find the union of two lists"
   ]
  },
  {
   "cell_type": "markdown",
   "id": "292c8494-4e7a-47da-a23b-84f6e2ec30fa",
   "metadata": {},
   "source": [
    "3. FInd common items from two list"
   ]
  },
  {
   "cell_type": "markdown",
   "id": "7f703bc4-27c4-4a32-9855-02eaa982cfa2",
   "metadata": {},
   "source": [
    "4. Find unique items from two list"
   ]
  },
  {
   "cell_type": "markdown",
   "id": "b9211a07-43aa-482b-bbaa-8324366e0c44",
   "metadata": {},
   "source": [
    "5. Find symmetric difference within two sets"
   ]
  },
  {
   "cell_type": "markdown",
   "id": "40a9947b-530b-4b47-be16-970e559e5249",
   "metadata": {},
   "source": [
    "6. Find Value Range in list"
   ]
  },
  {
   "cell_type": "markdown",
   "id": "ea3796b8-2b57-4294-baeb-06db0127f87c",
   "metadata": {},
   "source": [
    "7. Count every characters from a string"
   ]
  },
  {
   "cell_type": "markdown",
   "id": "6c5e54b9-cfa0-47a8-b309-e4efab2c23b1",
   "metadata": {},
   "source": [
    "8. Count every word from a string"
   ]
  },
  {
   "cell_type": "markdown",
   "id": "1a19bd09-0d58-4055-a25a-9a33dfaeba43",
   "metadata": {},
   "source": [
    "9. Sort all the characters in a string"
   ]
  },
  {
   "cell_type": "markdown",
   "id": "8c9e2679-a0aa-4b7d-a64a-30b4a531cecf",
   "metadata": {},
   "source": [
    "10. Sort a list with sorted function"
   ]
  },
  {
   "cell_type": "markdown",
   "id": "39cabb9d-3029-41c8-8666-6e09a162fb85",
   "metadata": {},
   "source": [
    "11. Flattening a Nested List"
   ]
  },
  {
   "cell_type": "markdown",
   "id": "e5dc9606-fcf3-465b-9df3-5f592db83dd3",
   "metadata": {},
   "source": [
    "12. Sort dictionary by their keys"
   ]
  },
  {
   "cell_type": "markdown",
   "id": "6d21ad27-dbd6-4d6c-b386-04986ecf9913",
   "metadata": {},
   "source": [
    "13. Check that a specific key is in the dictionary or not"
   ]
  },
  {
   "cell_type": "markdown",
   "id": "23c28ec0-8d65-4ee8-bbcd-01e49c6f3f06",
   "metadata": {},
   "source": [
    "14. Delete a key from dictionary"
   ]
  },
  {
   "cell_type": "markdown",
   "id": "0fb58726-91e1-4bcb-9431-afacc0ad71a2",
   "metadata": {},
   "source": [
    "15. Comprese two list to a dictionary"
   ]
  },
  {
   "cell_type": "markdown",
   "id": "bdc133fc-7242-4d0b-ac5b-4a65d21c77ce",
   "metadata": {},
   "source": [
    "16. Replace remove spaces from values \" H e l l o P y t h o n \""
   ]
  },
  {
   "cell_type": "markdown",
   "id": "1b9e5540-4115-40f0-8e95-ea5ae78710a6",
   "metadata": {},
   "source": [
    "17. Check if two strings are anagrams"
   ]
  },
  {
   "cell_type": "markdown",
   "id": "4f845dea-6951-498a-8dec-f731ab26b415",
   "metadata": {},
   "source": [
    "18. Check if a number is prime"
   ]
  },
  {
   "cell_type": "markdown",
   "id": "4b8c1ec1-b4b0-4ab7-af19-72afe531011b",
   "metadata": {},
   "source": [
    "19. Find the factorial of a number"
   ]
  },
  {
   "cell_type": "markdown",
   "id": "5d70324c-25dc-4d10-865b-2dbfa16f7e2a",
   "metadata": {},
   "source": [
    "20. Generate a Fibonacci sequence (first 10 numbers)"
   ]
  },
  {
   "cell_type": "markdown",
   "id": "dddd6b12-104c-40c9-92c7-4059a1a09523",
   "metadata": {},
   "source": [
    "21. Sum of three given integers. However, if two values are equal sum will be zero"
   ]
  },
  {
   "cell_type": "markdown",
   "id": "916253b8-da8a-4045-bac2-1821716e4ccc",
   "metadata": {},
   "source": [
    "22. Find the longest word in a sentence"
   ]
  },
  {
   "cell_type": "markdown",
   "id": "4d6b49e1-d42e-4e70-adc9-6bfc3b93a807",
   "metadata": {},
   "source": [
    "23. Reverse words in a sentence"
   ]
  },
  {
   "cell_type": "markdown",
   "id": "cb07602b-4e73-4776-b500-7a00ab567f88",
   "metadata": {},
   "source": [
    "24. Check The is armstrong or not"
   ]
  },
  {
   "cell_type": "markdown",
   "id": "604f1e98-faec-417b-8b7b-cc7f468a0f00",
   "metadata": {},
   "source": [
    "25. Write a Python program to test whether a passed letter is a vowel or not."
   ]
  },
  {
   "cell_type": "markdown",
   "id": "5cca88c3-393a-4887-aa5f-ee82ff7d0290",
   "metadata": {},
   "source": [
    "26. Write a program to convert \"2 0 1 7\" to the list [2, 0, 1, 7]?"
   ]
  },
  {
   "cell_type": "markdown",
   "id": "c909d4e1-2352-4235-a2be-bca134311ba4",
   "metadata": {},
   "source": [
    "27. Write a Python program that concatenates all elements in a list into a string and returns it."
   ]
  },
  {
   "cell_type": "markdown",
   "id": "59fbdc7f-42ad-47e4-81ca-b623d3c1d0a0",
   "metadata": {},
   "source": [
    "28. Write a Python program to sum three given integers. However, if two values are equal, the sum will be zero.(Triple Sum with Equality Rule)"
   ]
  },
  {
   "cell_type": "markdown",
   "id": "5ff4d571-ecc3-43e5-b3e6-774df137ae94",
   "metadata": {},
   "source": [
    "29. Write a Python program to sort three integers without using conditional statements and loops."
   ]
  },
  {
   "cell_type": "markdown",
   "id": "c99bd850-7a52-4c13-b05b-8b55bb6aa009",
   "metadata": {},
   "source": [
    "30. Write a Python program to calculate the midpoints of a line."
   ]
  },
  {
   "cell_type": "markdown",
   "id": "a54e4199-13d9-4900-bbd4-f8aa30c4d9e5",
   "metadata": {},
   "source": [
    "31. Write a Python program to test whether all numbers in a list are greater than a certain number."
   ]
  },
  {
   "cell_type": "markdown",
   "id": "66573722-05da-47cc-88db-eef0e9fd98f9",
   "metadata": {},
   "source": [
    "32. Write a Python program to remove the first item from a specified list."
   ]
  },
  {
   "cell_type": "markdown",
   "id": "a833943a-e288-41cf-8c53-72bca917a4a4",
   "metadata": {},
   "source": [
    "33. Write a Python program to format a specified string and limit the length of a string."
   ]
  },
  {
   "cell_type": "markdown",
   "id": "b48e9e81-9362-446e-8ec4-6c55fdec61f4",
   "metadata": {},
   "source": [
    "34. Write a Python program to split a variable length string into variables."
   ]
  },
  {
   "cell_type": "markdown",
   "id": "829593bb-0e67-458b-aba7-92eed83f6f72",
   "metadata": {},
   "source": [
    "35. Write a Python program to calculates the number of divisors"
   ]
  },
  {
   "cell_type": "markdown",
   "id": "56c919e9-1085-4753-8645-fb534a5be8f7",
   "metadata": {},
   "source": [
    "36. Write a Python program to compute the digit number of the sum of two given integers."
   ]
  },
  {
   "cell_type": "markdown",
   "id": "0b153744-f561-480b-8f89-ed3a861e2348",
   "metadata": {},
   "source": [
    "37. Write a Python program for grading with map function"
   ]
  },
  {
   "cell_type": "markdown",
   "id": "1bca0f77-64dc-489d-9d91-653481550746",
   "metadata": {},
   "source": [
    "38. Write a Python program to check whether a given number is Oddish or Evenish."
   ]
  },
  {
   "cell_type": "markdown",
   "id": "05744bf8-97e9-47a6-bd45-01181f5662ea",
   "metadata": {},
   "source": [
    "39. Sum of the last digit of first number and the last digit of second number equal to the last digit of third number"
   ]
  },
  {
   "cell_type": "markdown",
   "id": "88c07d36-b5a0-4674-a4b3-d95e652064ab",
   "metadata": {},
   "source": [
    "40. Write a Python program to generate and print a list of numbers from 1 to 10."
   ]
  },
  {
   "cell_type": "markdown",
   "id": "640ca350-2ef1-48a4-8ee7-632c352b4cf5",
   "metadata": {},
   "source": [
    "41. Write a Python program to reverse a string"
   ]
  },
  {
   "cell_type": "markdown",
   "id": "cf310c0e-6701-4083-b9a1-0dc56f112ce3",
   "metadata": {},
   "source": [
    "42. Write a Python program where greater than 5 characters waord are being reversed"
   ]
  },
  {
   "cell_type": "markdown",
   "id": "fc4105d8-7967-4de1-ae38-52bcbb4c8902",
   "metadata": {},
   "source": [
    "43. Write a Python program to split a sting with space"
   ]
  },
  {
   "cell_type": "markdown",
   "id": "347be9b1-ae24-44dd-9b20-9a30053966b7",
   "metadata": {},
   "source": [
    "44. Write a python Program to convert a decimal number system to other number system"
   ]
  },
  {
   "cell_type": "markdown",
   "id": "8b6ed2d6-0705-4588-b7a6-21d4fe70292b",
   "metadata": {},
   "source": [
    "45. list to number"
   ]
  },
  {
   "cell_type": "markdown",
   "id": "32b2d8a1-b140-4f2c-9f6a-46a6c177c992",
   "metadata": {},
   "source": [
    "46. Write a Python program that counts the number of prime numbers that are less than a given non-negative number."
   ]
  },
  {
   "cell_type": "markdown",
   "id": "6da83f7d-30f6-48d5-b00b-583fd0c34822",
   "metadata": {},
   "source": [
    "47. Write a Python program to check whether a given integer is a palindrome or not."
   ]
  },
  {
   "cell_type": "markdown",
   "id": "ec7aaff1-70e9-42af-b296-fa78339a9400",
   "metadata": {},
   "source": [
    "48. Check whether a given string is an \"isogram\" or not"
   ]
  },
  {
   "cell_type": "markdown",
   "id": "048bf8d1-b2ff-4a2d-a67f-d608c537fdf7",
   "metadata": {},
   "source": [
    "49. Check if a number is a palindrome"
   ]
  },
  {
   "cell_type": "markdown",
   "id": "d69ceb64-5717-491b-81fc-3d0580a79b49",
   "metadata": {},
   "source": [
    "50. Write a Python program to test whether a given integer is a Pandigital number or not."
   ]
  },
  {
   "cell_type": "code",
   "execution_count": null,
   "id": "b61201b3-e21a-413d-8c11-c03200170fce",
   "metadata": {},
   "outputs": [],
   "source": []
  }
 ],
 "metadata": {
  "kernelspec": {
   "display_name": "Python [conda env:base] *",
   "language": "python",
   "name": "conda-base-py"
  },
  "language_info": {
   "codemirror_mode": {
    "name": "ipython",
    "version": 3
   },
   "file_extension": ".py",
   "mimetype": "text/x-python",
   "name": "python",
   "nbconvert_exporter": "python",
   "pygments_lexer": "ipython3",
   "version": "3.12.7"
  }
 },
 "nbformat": 4,
 "nbformat_minor": 5
}
